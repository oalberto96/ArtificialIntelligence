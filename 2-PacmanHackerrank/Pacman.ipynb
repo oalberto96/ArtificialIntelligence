{
 "cells": [
  {
   "cell_type": "code",
   "execution_count": 2,
   "metadata": {},
   "outputs": [
    {
     "name": "stdout",
     "output_type": "stream",
     "text": [
      "{(5, 6): [(6, 7), (5, 5), (5, 7)], (6, 7): [(5, 6)], 1: [8, 51], 8: [1], 51: [1], (1, 1): [(2, 1), (1, 2)], (2, 1): [(1, 1), (3, 1)], (1, 2): [(1, 1), (1, 3)], (1, 3): [(1, 2), (1, 4)], (1, 4): [(1, 3), (2, 4), (1, 5)], (2, 4): [(1, 4), (3, 4)], (1, 5): [(1, 4), (1, 6)], (1, 6): [(1, 5), (1, 7)], (1, 7): [(1, 6), (2, 7), (1, 8)], (2, 7): [(1, 7), (3, 7)], (1, 8): [(1, 7), (1, 9)], (1, 9): [(1, 8), (1, 10)], (1, 10): [(1, 9), (2, 10), (1, 11)], (2, 10): [(1, 10), (3, 10)], (1, 11): [(1, 10), (1, 12)], (1, 12): [(1, 11), (1, 13)], (1, 13): [(1, 12), (2, 13), (1, 14)], (2, 13): [(1, 13), (3, 13)], (1, 14): [(1, 13)], (1, 16): [(2, 16), (1, 17)], (2, 16): [(1, 16), (3, 16)], (1, 17): [(1, 16), (1, 18)], (1, 18): [(1, 17), (2, 18)], (2, 18): [(1, 18), (3, 18)], (3, 1): [(2, 1), (3, 2)], (3, 4): [(2, 4), (3, 3), (3, 5)], (3, 7): [(2, 7), (3, 6), (3, 8)], (3, 10): [(2, 10), (3, 9), (3, 11)], (3, 13): [(2, 13), (3, 12), (3, 14)], (3, 16): [(2, 16), (3, 15)], (3, 18): [(2, 18), (4, 18)], (3, 2): [(3, 1), (3, 3)], (3, 3): [(3, 2), (3, 4)], (3, 5): [(3, 4), (3, 6)], (3, 6): [(3, 5), (3, 7)], (3, 8): [(3, 7), (3, 9)], (3, 9): [(3, 8), (3, 10)], (3, 11): [(3, 10), (3, 12)], (3, 12): [(3, 11), (3, 13)], (3, 14): [(3, 13), (3, 15)], (3, 15): [(3, 14), (3, 16)], (4, 18): [(3, 18), (5, 18)], (5, 18): [(4, 18), (5, 17)], (5, 1): [(5, 2)], (5, 2): [(5, 1), (5, 3)], (5, 3): [(5, 2), (5, 4)], (5, 4): [(5, 3), (5, 5)], (5, 5): [(5, 4), (5, 6)], (5, 7): [(5, 6), (5, 8)], (5, 8): [(5, 7), (5, 9)], (5, 9): [(5, 8), (5, 10)], (5, 10): [(5, 9), (5, 11)], (5, 11): [(5, 10), (5, 12)], (5, 12): [(5, 11), (5, 13)], (5, 13): [(5, 12), (5, 14)], (5, 14): [(5, 13), (5, 15)], (5, 15): [(5, 14), (5, 16)], (5, 16): [(5, 15), (5, 17)], (5, 17): [(5, 16), (5, 18)]}\n"
     ]
    }
   ],
   "source": [
    "#!/usr/bin/python\n",
    "\n",
    "'''\n",
    "Sample input\n",
    "3 9\n",
    "5 1\n",
    "7 20\n",
    "%%%%%%%%%%%%%%%%%%%%\n",
    "%--------------%---%\n",
    "%-%%-%%-%%-%%-%%-%-%\n",
    "%--------P-------%-%\n",
    "%%%%%%%%%%%%%%%%%%-%\n",
    "%.-----------------%\n",
    "%%%%%%%%%%%%%%%%%%%%\n",
    "'''\n",
    "\n",
    "class Graph:\n",
    "    def __init__(self):\n",
    "        self.nodes = {}\n",
    "        self.pos = {}\n",
    "\n",
    "    def maze_to_graph(self, r_grid_size, c_grid_size, pacman_r, pacman_c, food_r, food_c, maze):\n",
    "        empty_spaces = []\n",
    "        Edges = []\n",
    "        start = (pacman_r,pacman_c)\n",
    "        goal = (food_r,food_c)\n",
    "        for r,line in enumerate(maze):\n",
    "            for c,char in enumerate(line):\n",
    "                vertex = (r,c)\n",
    "                if char == '%':\n",
    "                    continue\n",
    "                if r<r_grid_size-1 and maze[r+1][c] != '%':\n",
    "                    self.add_edge((vertex,(r+1,c)))\n",
    "                if c<c_grid_size-1 and maze[r][c+1] != '%':\n",
    "                    self.add_edge((vertex,(r,c+1)))\n",
    "        print(self.nodes)\n",
    "\n",
    "\n",
    "\n",
    "    def add_edge(self, vertex):\n",
    "        vertex1,vertex2 = vertex\n",
    "        edge = []\n",
    "        if vertex1 in self.nodes:\n",
    "            edge = self.nodes[vertex1]\n",
    "            edge.append(vertex2)\n",
    "        else:\n",
    "            edge.append(vertex2)\n",
    "            self.nodes[vertex1] = edge\n",
    "        edge = []\n",
    "        if vertex2 in self.nodes:\n",
    "            edge = self.nodes[vertex2]\n",
    "            edge.append(vertex1)\n",
    "        else:\n",
    "            edge.append(vertex1)\n",
    "            self.nodes[vertex2] = edge\n",
    "\n",
    "def dfs( r, c, pacman_r, pacman_c, food_r, food_c, grid):\n",
    "    graph = Graph()\n",
    "    graph.add_edge([(5,6),(6,7)])\n",
    "    graph.add_edge([1,8])\n",
    "    graph.add_edge([1,51])\n",
    "    graph.maze_to_graph(r, c, pacman_r, pacman_c, food_r, food_c, grid)\n",
    "    return\n",
    "\n",
    "readfile = True\n",
    "grid = []\n",
    "if readfile:\n",
    "    text = open(\"maze.txt\",\"r\")\n",
    "    pacman_r, pacman_c = [ int(i) for i in text.readline().strip().split() ]\n",
    "    food_r, food_c = [ int(i) for i in text.readline().strip().split() ]\n",
    "    r,c = [ int(i) for i in text.readline().strip().split() ]\n",
    "    for i in range(0, r):\n",
    "        grid.append(text.readline().strip())\n",
    "else:\n",
    "    pacman_r, pacman_c = [ int(i) for i in input().strip().split() ]\n",
    "    food_r, food_c = [ int(i) for i in input().strip().split() ]\n",
    "    r,c = [ int(i) for i in input().strip().split() ]\n",
    "    for i in range(0, r):\n",
    "        grid.append(input().strip())\n",
    "\n",
    "\n",
    "\n",
    "\n",
    "dfs(r, c, pacman_r, pacman_c, food_r, food_c, grid)\n"
   ]
  },
  {
   "cell_type": "code",
   "execution_count": null,
   "metadata": {
    "collapsed": true
   },
   "outputs": [],
   "source": []
  }
 ],
 "metadata": {
  "kernelspec": {
   "display_name": "Python 3",
   "language": "python",
   "name": "python3"
  },
  "language_info": {
   "codemirror_mode": {
    "name": "ipython",
    "version": 3
   },
   "file_extension": ".py",
   "mimetype": "text/x-python",
   "name": "python",
   "nbconvert_exporter": "python",
   "pygments_lexer": "ipython3",
   "version": "3.6.1"
  }
 },
 "nbformat": 4,
 "nbformat_minor": 2
}
