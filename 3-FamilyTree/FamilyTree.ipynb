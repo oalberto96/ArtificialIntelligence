{
 "cells": [
  {
   "cell_type": "markdown",
   "metadata": {},
   "source": [
    "### Inteligencia Artificial\n",
    "### Practica 3: Inferencia"
   ]
  },
  {
   "cell_type": "markdown",
   "metadata": {},
   "source": [
    "## Instalacion\n",
    "\n",
    "### Instalacion prolog\n",
    "\n",
    "```bash\n",
    "sudo add-apt-repository ppa:swi-prolog/stable\n",
    "sudo apt-get update\n",
    "sudo apt-get install swi-prolog\n",
    "```\n",
    "\n",
    "### Instalacion Pyswip\n",
    "Este repositorio establece la comunicacion entre prolog y python\n",
    "https://github.com/yuce/pyswip\n",
    "```bash\n",
    "git clone https://github.com/yuce/pyswip\n",
    "sudo \n",
    "sudo apt-get install swi-prolog\n",
    "```\n"
   ]
  },
  {
   "cell_type": "code",
   "execution_count": 11,
   "metadata": {},
   "outputs": [
    {
     "name": "stdout",
     "output_type": "stream",
     "text": [
      "Todos los shavos [{'X': 'bart'}, {'X': 'bart'}, {'X': 'lisa'}, {'X': 'lisa'}, {'X': 'maggie'}, {'X': 'maggie'}]\n"
     ]
    }
   ],
   "source": [
    "from pyswip import Prolog\n",
    "import ipywidgets as widgets\n",
    "\n",
    "prolog = Prolog()\n",
    "prolog.consult(\"rules.pl\")\n",
    "prolog.consult(\"people.pl\")\n",
    "prolog.consult(\"statements.pl\")\n",
    "x =  list(prolog.query(\"cousin(ling,X)\"))\n",
    "print(\"Todos los shavos \" + str(x))\n"
   ]
  },
  {
   "cell_type": "code",
   "execution_count": 27,
   "metadata": {
    "collapsed": true
   },
   "outputs": [],
   "source": [
    "import re"
   ]
  },
  {
   "cell_type": "code",
   "execution_count": 41,
   "metadata": {},
   "outputs": [
    {
     "data": {
      "application/vnd.jupyter.widget-view+json": {
       "model_id": "4050bfd34f794e1fa05d46357e001605",
       "version_major": 2,
       "version_minor": 0
      },
      "text/plain": [
       "A Jupyter Widget"
      ]
     },
     "metadata": {},
     "output_type": "display_data"
    },
    {
     "data": {
      "application/vnd.jupyter.widget-view+json": {
       "model_id": "6564f7ce2fef41e49ce5ce9418c9bdf1",
       "version_major": 2,
       "version_minor": 0
      },
      "text/plain": [
       "A Jupyter Widget"
      ]
     },
     "metadata": {},
     "output_type": "display_data"
    }
   ],
   "source": [
    "button1 = widgets.Button(description=\"Agregar parentezco\")\n",
    "display(button1)\n",
    "\n",
    "button2 = widgets.Button(description=\"Consulta parentezco\")\n",
    "display(button2)\n",
    "\n",
    "def refresh_relations():\n",
    "    sep = \"(\"\n",
    "    pl_file =  open(\"rules.pl\",\"r\")\n",
    "    return [line.split(sep)[0] for line in pl_file.readlines()]\n",
    "\n",
    "def refresh_people():\n",
    "    sep = \"(\"\n",
    "    pl_file = open(\"people.pl\",\"r\")\n",
    "    return [re.findall(r\"\\(([A-Za-z0-9_]+)\\)\",line)[0] for line in pl_file.readlines()]\n",
    "    \n",
    "\n",
    "def on_button_button1_clicked(button1):\n",
    "    button1.close()\n",
    "    button2.close()\n",
    "    x = widgets.Dropdown(options = relationship , value=relationship[0], description='Parentezco:', disabled=False,)\n",
    "    display(x)\n",
    "    y = widgets.Dropdown(options = names , value=names[0], description='Persona:', disabled=False,)\n",
    "    display(y)\n",
    "\n",
    "def on_button_button2_clicked(button2):\n",
    "    pass\n",
    "\n",
    "\n",
    "relationship = refresh_relations()\n",
    "names = refresh_people()\n",
    "button1.on_click(on_button_button1_clicked)\n",
    "button2.on_click(on_button_button2_clicked)\n",
    "\n",
    "\n",
    "    "
   ]
  },
  {
   "cell_type": "code",
   "execution_count": null,
   "metadata": {
    "collapsed": true
   },
   "outputs": [],
   "source": []
  },
  {
   "cell_type": "code",
   "execution_count": null,
   "metadata": {
    "collapsed": true
   },
   "outputs": [],
   "source": []
  }
 ],
 "metadata": {
  "kernelspec": {
   "display_name": "Python 3",
   "language": "python",
   "name": "python3"
  },
  "language_info": {
   "codemirror_mode": {
    "name": "ipython",
    "version": 3
   },
   "file_extension": ".py",
   "mimetype": "text/x-python",
   "name": "python",
   "nbconvert_exporter": "python",
   "pygments_lexer": "ipython3",
   "version": "3.6.2"
  }
 },
 "nbformat": 4,
 "nbformat_minor": 2
}
