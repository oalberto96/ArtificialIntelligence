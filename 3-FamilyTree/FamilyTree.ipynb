{
 "cells": [
  {
   "cell_type": "markdown",
   "metadata": {},
   "source": [
    "### Inteligencia Artificial\n",
    "### Practica 3: Inferencia"
   ]
  },
  {
   "cell_type": "markdown",
   "metadata": {},
   "source": [
    "## Instalacion\n",
    "\n",
    "### Instalacion prolog\n",
    "\n",
    "```bash\n",
    "sudo add-apt-repository ppa:swi-prolog/stable\n",
    "sudo apt-get update\n",
    "sudo apt-get install swi-prolog\n",
    "```\n",
    "\n",
    "### Instalacion Pyswip\n",
    "Este repositorio establece la comunicacion entre prolog y python\n",
    "https://github.com/yuce/pyswip\n",
    "```bash\n",
    "git clone https://github.com/yuce/pyswip\n",
    "sudo \n",
    "sudo apt-get install swi-prolog\n",
    "```\n"
   ]
  },
  {
   "cell_type": "code",
   "execution_count": 2,
   "metadata": {},
   "outputs": [
    {
     "name": "stdout",
     "output_type": "stream",
     "text": [
      "michael is the father of john\n",
      "michael is the father of gina\n"
     ]
    }
   ],
   "source": [
    "from pyswip import Prolog\n",
    "from ipywidgets import widgets\n",
    "\n",
    "prolog = Prolog()\n",
    "prolog.assertz(\"father(michael,john)\")\n",
    "prolog.assertz(\"father(michael,gina)\")\n",
    "list(prolog.query(\"father(michael,X)\"))\n",
    "for soln in prolog.query(\"father(X,Y)\"):\n",
    "    print(soln[\"X\"], \"is the father of\", soln[\"Y\"])\n",
    "    \n",
    "prolog.consult(\"database.pl\")"
   ]
  },
  {
   "cell_type": "code",
   "execution_count": 4,
   "metadata": {
    "collapsed": true
   },
   "outputs": [],
   "source": [
    "parentezco = [\"Padre\",\"Madre\", \"Abuelo\"]"
   ]
  },
  {
   "cell_type": "code",
   "execution_count": 3,
   "metadata": {},
   "outputs": [
    {
     "data": {
      "application/vnd.jupyter.widget-view+json": {
       "model_id": "82db3d96bda246279722c8d3ac0c130c",
       "version_major": 2,
       "version_minor": 0
      },
      "text/plain": [
       "A Jupyter Widget"
      ]
     },
     "metadata": {},
     "output_type": "display_data"
    },
    {
     "data": {
      "application/vnd.jupyter.widget-view+json": {
       "model_id": "520ce2d0881e4c3f8f3555f733c9acbd",
       "version_major": 2,
       "version_minor": 0
      },
      "text/plain": [
       "A Jupyter Widget"
      ]
     },
     "metadata": {},
     "output_type": "display_data"
    },
    {
     "data": {
      "application/vnd.jupyter.widget-view+json": {
       "model_id": "cc858adf74b54e4a8033864244876857",
       "version_major": 2,
       "version_minor": 0
      },
      "text/plain": [
       "A Jupyter Widget"
      ]
     },
     "metadata": {},
     "output_type": "display_data"
    }
   ],
   "source": [
    "button1 = widgets.Button(description=\"Agregar parentezco\")\n",
    "display(button1)\n",
    "\n",
    "button2 = widgets.Button(description=\"Consulta parentezco\")\n",
    "display(button2)\n",
    "\n",
    "def on_button_button1_clicked(button1):\n",
    "    button1.close()\n",
    "    button2.close()\n",
    "    x = widgets.Dropdown(\n",
    "    options = parentezco ,\n",
    "    value='Padre',\n",
    "    description='Parentezco:',\n",
    "    disabled=False,\n",
    "    )\n",
    "    display(x)\n",
    "\n",
    "def on_button_button2_clicked(button2):\n",
    "    pass\n",
    "\n",
    "button1.on_click(on_button_button1_clicked)\n",
    "button2.on_click(on_button_button2_clicked)\n",
    "\n",
    "\n",
    "    "
   ]
  },
  {
   "cell_type": "code",
   "execution_count": null,
   "metadata": {
    "collapsed": true
   },
   "outputs": [],
   "source": []
  }
 ],
 "metadata": {
  "kernelspec": {
   "display_name": "Python 3",
   "language": "python",
   "name": "python3"
  },
  "language_info": {
   "codemirror_mode": {
    "name": "ipython",
    "version": 3
   },
   "file_extension": ".py",
   "mimetype": "text/x-python",
   "name": "python",
   "nbconvert_exporter": "python",
   "pygments_lexer": "ipython3",
   "version": "3.6.2"
  }
 },
 "nbformat": 4,
 "nbformat_minor": 2
}
