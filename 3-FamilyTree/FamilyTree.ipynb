{
 "cells": [
  {
   "cell_type": "markdown",
   "metadata": {},
   "source": [
    "### Inteligencia Artificial\n",
    "### Practica 3: Inferencia"
   ]
  },
  {
   "cell_type": "markdown",
   "metadata": {},
   "source": [
    "## Instalacion\n",
    "\n",
    "### Instalacion prolog\n",
    "\n",
    "```bash\n",
    "sudo add-apt-repository ppa:swi-prolog/stable\n",
    "sudo apt-get update\n",
    "sudo apt-get install swi-prolog\n",
    "```\n",
    "\n",
    "### Instalacion Pyswip\n",
    "Este repositorio establece la comunicacion entre prolog y python\n",
    "https://github.com/yuce/pyswip\n",
    "```bash\n",
    "git clone https://github.com/yuce/pyswip\n",
    "cd pyswip\n",
    "pythona setup.py install\n",
    "```\n"
   ]
  },
  {
   "cell_type": "code",
   "execution_count": 51,
   "metadata": {},
   "outputs": [],
   "source": [
    "from pyswip import Prolog\n",
    "import re\n",
    "import ipywidgets as widgets\n",
    "\n"
   ]
  },
  {
   "cell_type": "code",
   "execution_count": 52,
   "metadata": {},
   "outputs": [],
   "source": [
    "def print_relations():\n",
    "    sep = \"(\"\n",
    "    pl_file =  open(\"statements.pl\",\"r\")\n",
    "    for x in list(set([line.split(sep)[0] for line in pl_file.readlines()])):\n",
    "        print(x)\n",
    "    \n",
    "def print_people():\n",
    "    sep = \"(\"\n",
    "    pl_file = open(\"people.pl\",\"r\")\n",
    "    for x in list(re.findall(r\"\\(([A-Za-z0-9_]+)\\)\",line)[0] for line in pl_file.readlines()):\n",
    "        print(x)"
   ]
  },
  {
   "cell_type": "code",
   "execution_count": 60,
   "metadata": {},
   "outputs": [
    {
     "name": "stdout",
     "output_type": "stream",
     "text": [
      "Personas\n",
      "\n",
      "abraham\n",
      "clancy\n",
      "herb\n",
      "homero\n",
      "bart\n",
      "mona\n",
      "jackie\n",
      "marge\n",
      "patty\n",
      "selma\n",
      "lisa\n",
      "maggie\n",
      "ling\n",
      "pedrito\n",
      "\n",
      "Relaciones\n",
      "\n",
      "parent\n",
      "husbands\n"
     ]
    }
   ],
   "source": [
    "class PrologUpdater():\n",
    "    def __init__(self):\n",
    "        pass\n",
    "    \n",
    "    def write_database(self,new_line,path):\n",
    "        file = open(path,'a')\n",
    "        file.write(new_line)\n",
    "        file.close()\n",
    "        \n",
    "    def new_member(self,name,sex):\n",
    "        self.write_database(sex + \"(\" + name + \").\\n\", \"people.pl\")\n",
    "    \n",
    "    def new_relationship(self,name_x, name_y, relationship):\n",
    "        self.write_database(relationship + \"(\" + name_x + \",\" + name_y + \").\\n\",\"statements.pl\")\n",
    "        \n",
    "print(\"Personas\\n\")\n",
    "print_people()\n",
    "print(\"\\nRelaciones\\n\")\n",
    "print_relations()\n",
    "prolog_updater = PrologUpdater()\n",
    "prolog_updater.new_member(\"pedrito\",\"male\")\n",
    "prolog_updater.new_relationship(\"pedrito\",\"abraham\", \"parent\")\n",
    "    "
   ]
  },
  {
   "cell_type": "code",
   "execution_count": 71,
   "metadata": {},
   "outputs": [
    {
     "name": "stdout",
     "output_type": "stream",
     "text": [
      "Padre: pedrito\n"
     ]
    }
   ],
   "source": [
    "prolog = Prolog()\n",
    "prolog.consult(\"rules.pl\")\n",
    "prolog.consult(\"people.pl\")\n",
    "prolog.consult(\"statements.pl\")\n",
    "x = list(prolog.query(\"parent(X,abraham)\"))\n",
    "for y in x:\n",
    "    print(\"Padre: \" + str(y['X']))\n"
   ]
  },
  {
   "cell_type": "code",
   "execution_count": 49,
   "metadata": {
    "collapsed": true
   },
   "outputs": [],
   "source": [
    "import re\n",
    "import ipywidgets as widgets\n",
    "\n",
    "class UI_Family():\n",
    "    \n",
    "    def __init__(self):\n",
    "        self.name = []\n",
    "        self.sex_value = []\n",
    "        self.relationship_type = []\n",
    "        self.relationship_with = []\n",
    "        self.dd_sex = widgets.Dropdown()\n",
    "        self.dd_members = widgets.Dropdown()\n",
    "        self.dd_relationships = widgets.Dropdown()\n",
    "        self.t_name = widgets.Text()\n",
    "        \n",
    "    #Widgets\n",
    "\n",
    "    \n",
    "    #Refresh from database\n",
    "    def refresh_relations(self):\n",
    "        sep = \"(\"\n",
    "        pl_file =  open(\"statements.pl\",\"r\")\n",
    "        return list(set([line.split(sep)[0] for line in pl_file.readlines()]))\n",
    "    \n",
    "    def refresh_people(self):\n",
    "        sep = \"(\"\n",
    "        pl_file = open(\"people.pl\",\"r\")\n",
    "        return [re.findall(r\"\\(([A-Za-z0-9_]+)\\)\",line)[0] for line in pl_file.readlines()]\n",
    "\n",
    "    #Form add \n",
    "    def on_button_button1_clicked(self,button1):\n",
    "        #Close buttons\n",
    "        button1.close()\n",
    "        button2.close()\n",
    "        \n",
    "        #Generate widgets form\n",
    "        t_name = widgets.Text(value='Nombre del nuevo miembro!', disabled=False)\n",
    "        dd_relationships = widgets.Dropdown(options = relationship , value=relationship[0], description='Parentezco:', disabled=False,)\n",
    "        dd_members = widgets.Dropdown(options = members , value=members[0], description='Con:', disabled=False,)\n",
    "        dd_sex = widgets.Dropdown(options = sex, value=sex[0], description='Sexo', disabled=False)\n",
    "        btn_addnewmember = widgets.Button(description=\"Aceptar\")\n",
    "        \n",
    "        #Display Widgets\n",
    "        display(t_name)\n",
    "        display(dd_sex)\n",
    "        display(dd_relationships)\n",
    "        display(dd_members)\n",
    "        display(btn_addnewmember)\n",
    "        \n",
    "        #add listeners\n",
    "        btn_addnewmember.on_click(self.on_button_btn_addnewmember_clicked)\n",
    "        dd_sex.observe(self.dd_sex_on_change)\n",
    "        dd_relationships.observe(self.dd_rel_on_change)\n",
    "        dd_members.observe(self.dd_memb_on_change)\n",
    "\n",
    "    #DropDown Handler functions\n",
    "    def dd_sex_on_change(self, change):\n",
    "        if change['type'] == 'change' and change['name'] == 'value':\n",
    "            self.sex_value = change['new']\n",
    "            \n",
    "    def dd_rel_on_change(self, change):\n",
    "        if change['type'] == 'change' and change['name'] == 'value':\n",
    "            self.relationship_type = change['new']\n",
    "            \n",
    "    def dd_memb_on_change(self, change):\n",
    "        if change['type'] == 'change' and change['name'] == 'value':\n",
    "            self.relationship_with = change['new']\n",
    "            \n",
    "    def on_button_button2_clicked(self, button2):\n",
    "        pass\n",
    "\n",
    "    def on_button_btn_addnewmember_clicked(self, btn_addnewmember):  \n",
    "        print(self.t_name)\n",
    "        print(self.sex_value)\n",
    "        print(self.relationship_type)\n",
    "        print(self.relationship_with)\n",
    "\n",
    "\n",
    "        "
   ]
  },
  {
   "cell_type": "code",
   "execution_count": 50,
   "metadata": {},
   "outputs": [
    {
     "data": {
      "application/vnd.jupyter.widget-view+json": {
       "model_id": "47abf9468bee4e7e848eef8d7836ab2b",
       "version_major": 2,
       "version_minor": 0
      },
      "text/plain": [
       "A Jupyter Widget"
      ]
     },
     "metadata": {},
     "output_type": "display_data"
    },
    {
     "data": {
      "application/vnd.jupyter.widget-view+json": {
       "model_id": "408683374d414ddd9d5c313d6d06e0b9",
       "version_major": 2,
       "version_minor": 0
      },
      "text/plain": [
       "A Jupyter Widget"
      ]
     },
     "metadata": {},
     "output_type": "display_data"
    }
   ],
   "source": [
    "button1 = widgets.Button(description=\"Agregar parentezco\")\n",
    "display(button1)\n",
    "button2 = widgets.Button(description=\"Consulta parentezco\")\n",
    "display(button2)\n",
    "\n",
    "#Widgets declaration\n",
    "\n",
    "\n",
    "#attributes names\n",
    "'''global name\n",
    "global sex_value\n",
    "global relationship_tyoe\n",
    "global relationship_with'''\n",
    "\n",
    "ui_forms = UI_Family()\n",
    "        \n",
    "relationship = ui_forms.refresh_relations()\n",
    "relationship.append(\"None\")\n",
    "members = ui_forms.refresh_people()\n",
    "sex = ['male', 'female']\n",
    "\n",
    "\n",
    "button1.on_click(ui_forms.on_button_button1_clicked)\n",
    "button2.on_click(ui_forms.on_button_button2_clicked)\n",
    "\n",
    "    "
   ]
  },
  {
   "cell_type": "code",
   "execution_count": null,
   "metadata": {
    "collapsed": true
   },
   "outputs": [],
   "source": []
  },
  {
   "cell_type": "code",
   "execution_count": null,
   "metadata": {
    "collapsed": true
   },
   "outputs": [],
   "source": []
  }
 ],
 "metadata": {
  "kernelspec": {
   "display_name": "Python 3",
   "language": "python",
   "name": "python3"
  },
  "language_info": {
   "codemirror_mode": {
    "name": "ipython",
    "version": 3
   },
   "file_extension": ".py",
   "mimetype": "text/x-python",
   "name": "python",
   "nbconvert_exporter": "python",
   "pygments_lexer": "ipython3",
   "version": "3.6.2"
  }
 },
 "nbformat": 4,
 "nbformat_minor": 2
}
