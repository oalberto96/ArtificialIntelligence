{
 "cells": [
  {
   "cell_type": "markdown",
   "metadata": {},
   "source": []
  },
  {
   "cell_type": "markdown",
   "metadata": {},
   "source": [
    "Instalacion: \n",
    "```bash\n",
    "python3 -m pip install Owlready2\n",
    "pipconda install owlready2\n",
    "```\n"
   ]
  },
  {
   "cell_type": "markdown",
   "metadata": {},
   "source": [
    "### Python module with methods (drug.py)"
   ]
  },
  {
   "cell_type": "code",
   "execution_count": 15,
   "metadata": {
    "collapsed": true
   },
   "outputs": [],
   "source": [
    "from owlready2 import *\n",
    "onto_path.append(\".\")\n",
    "drug_onto = get_ontology(\"dron-full.owl\")\n",
    "\n",
    "\n",
    "with drug_onto:\n",
    "    class DrugCILactoseIntolerance(Thing):\n",
    "        def take(self):\n",
    "            print(\"Bahhh!\")\n",
    "            \n",
    "    \n",
    "    class DrugOkLactoseIntolerance(Thing):\n",
    "        def take(self):\n",
    "            print(\"Ok, it is safe for me\")"
   ]
  },
  {
   "cell_type": "markdown",
   "metadata": {},
   "source": [
    "### Python script for testing (test.py)"
   ]
  },
  {
   "cell_type": "code",
   "execution_count": 20,
   "metadata": {},
   "outputs": [
    {
     "ename": "TypeError",
     "evalue": "'NoneType' object is not callable",
     "output_type": "error",
     "traceback": [
      "\u001b[0;31m---------------------------------------------------------------------------\u001b[0m",
      "\u001b[0;31mTypeError\u001b[0m                                 Traceback (most recent call last)",
      "\u001b[0;32m<ipython-input-20-68495e9435be>\u001b[0m in \u001b[0;36m<module>\u001b[0;34m()\u001b[0m\n\u001b[1;32m      4\u001b[0m \u001b[0mdrug_onto\u001b[0m\u001b[0;34m.\u001b[0m\u001b[0mload\u001b[0m\u001b[0;34m(\u001b[0m\u001b[0;34m)\u001b[0m\u001b[0;34m\u001b[0m\u001b[0m\n\u001b[1;32m      5\u001b[0m \u001b[0;34m\u001b[0m\u001b[0m\n\u001b[0;32m----> 6\u001b[0;31m \u001b[0mtest_drug\u001b[0m \u001b[0;34m=\u001b[0m \u001b[0mdrug_onto\u001b[0m\u001b[0;34m.\u001b[0m\u001b[0mDrug\u001b[0m\u001b[0;34m(\u001b[0m\u001b[0;34m)\u001b[0m\u001b[0;34m\u001b[0m\u001b[0m\n\u001b[0m\u001b[1;32m      7\u001b[0m test_drug.hasIngredient = [\n\u001b[1;32m      8\u001b[0m     \u001b[0mdrug_onto\u001b[0m\u001b[0;34m.\u001b[0m\u001b[0mAspirin\u001b[0m\u001b[0;34m(\u001b[0m\u001b[0;34m)\u001b[0m\u001b[0;34m,\u001b[0m\u001b[0;34m\u001b[0m\u001b[0m\n",
      "\u001b[0;31mTypeError\u001b[0m: 'NoneType' object is not callable"
     ]
    }
   ],
   "source": [
    "from owlready2 import *\n",
    "onto_path.append(\"/path/to/local/copy\")\n",
    "drug_onto = get_ontology(\"dron-full.owl\")\n",
    "drug_onto.load()\n",
    "\n",
    "test_drug = drug_onto.Drug()\n",
    "test_drug.hasIngredient = [\n",
    "    drug_onto.Aspirin(),\n",
    "    drug_onto.Lactose()\n",
    "]\n",
    "\n",
    "sync_reasoner()\n",
    "test_drug.take()\n",
    "\n"
   ]
  },
  {
   "cell_type": "code",
   "execution_count": null,
   "metadata": {
    "collapsed": true
   },
   "outputs": [],
   "source": []
  },
  {
   "cell_type": "markdown",
   "metadata": {},
   "source": [
    "Lamy, J. B. (2017). Owlready: Ontology-oriented programming in Python with automatic classification and high level constructs for biomedical ontologies. Artificial Intelligence in Medicine, 80, 11-28."
   ]
  },
  {
   "cell_type": "code",
   "execution_count": null,
   "metadata": {
    "collapsed": true
   },
   "outputs": [],
   "source": []
  }
 ],
 "metadata": {
  "kernelspec": {
   "display_name": "Python 3",
   "language": "python",
   "name": "python3"
  }
 },
 "nbformat": 4,
 "nbformat_minor": 2
}
