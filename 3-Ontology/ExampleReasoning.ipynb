{
 "cells": [
  {
   "cell_type": "code",
   "execution_count": 2,
   "metadata": {
    "collapsed": true
   },
   "outputs": [],
   "source": [
    "from owlready2 import *"
   ]
  },
  {
   "cell_type": "markdown",
   "metadata": {},
   "source": [
    "Instalacion: \n",
    "```bash\n",
    "python3 -m pip install Owlready2\n",
    "pipconda install owlready2\n",
    "```\n"
   ]
  },
  {
   "cell_type": "markdown",
   "metadata": {},
   "source": [
    "# Pizza Example"
   ]
  },
  {
   "cell_type": "code",
   "execution_count": 4,
   "metadata": {},
   "outputs": [
    {
     "name": "stderr",
     "output_type": "stream",
     "text": [
      "* Owlready2 * Running HermiT...\n",
      "    java -Xmx2000M -cp /home/glassy/anaconda3/lib/python3.6/site-packages/owlready2/hermit:/home/glassy/anaconda3/lib/python3.6/site-packages/owlready2/hermit/HermiT.jar org.semanticweb.HermiT.cli.CommandLine -c -O -D -I file:////tmp/tmpura1tsl3\n"
     ]
    },
    {
     "name": "stdout",
     "output_type": "stream",
     "text": [
      "Beurk! I'm vegetarian!\n"
     ]
    },
    {
     "name": "stderr",
     "output_type": "stream",
     "text": [
      "* Owlready2 * HermiT took 5.989355564117432 seconds\n",
      "* Owlready * Reparenting pizza_onto.test_pizza_owl_identifier: {pizza_onto.Pizza} => {pizza_onto.NonVegetarianPizza, pizza_onto.Pizza & (pizza_onto.has_topping.some(pizza_onto.MeatTopping) | pizza_onto.has_topping.some(pizza_onto.FishTopping))}\n"
     ]
    },
    {
     "data": {
      "text/plain": [
       "[pizza_onto.CheeseTopping,\n",
       " pizza_onto.FishTopping,\n",
       " pizza_onto.MeatTopping,\n",
       " pizza_onto.Pizza,\n",
       " pizza_onto.TomatoTopping,\n",
       " pizza_onto.Topping,\n",
       " pizza_onto.NonVegetarianPizza]"
      ]
     },
     "execution_count": 4,
     "metadata": {},
     "output_type": "execute_result"
    }
   ],
   "source": [
    "#Load an ontology from a local repository, or from Internet\n",
    "onto_path.append(\"resources/\")\n",
    "onto = get_ontology(\"http://www.lesfleursdunormal.fr/static/_downloads/pizza_onto.owl\")\n",
    "onto.load()\n",
    "\n",
    "#Create new classes in the ontology, possibly mixing OWL constructs and Python methods\n",
    "class NonVegetarianPizza(onto.Pizza):\n",
    "    equivalent_to = [\n",
    "        onto.Pizza\n",
    "        & ( onto.has_topping.some(onto.MeatTopping)\n",
    "           | onto.has_topping.some(onto.FishTopping)\n",
    "          )]\n",
    "    def eat(self): print(\"Beurk! I'm vegetarian!\")\n",
    "        \n",
    "#Access the classes of the ontology, and create new instances / individuals:\n",
    "onto.Pizza\n",
    "test_pizza = onto.Pizza(\"test_pizza_owl_identifier\")\n",
    "test_pizza.has_topping = [ onto.CheeseTopping(),onto.TomatoTopping() ]\n",
    "\n",
    "#In Owlready2, almost any lists can be modified in place, for example by appending/removing items from lists. \n",
    "#Owlready2 automatically updates the RDF quadstore.\n",
    "test_pizza.has_topping.append(onto.MeatTopping())\n",
    "\n",
    "#Perform reasoning, and classify instances and classes:\n",
    "test_pizza.__class__\n",
    "\n",
    "# Execute HermiT and reparent instances and classes\n",
    "sync_reasoner()\n",
    "test_pizza.__class__\n",
    "test_pizza.eat()\n",
    "\n",
    "list(onto.classes())"
   ]
  },
  {
   "cell_type": "markdown",
   "metadata": {
    "collapsed": true
   },
   "source": [
    "### Pyhton script (drug2.py)"
   ]
  },
  {
   "cell_type": "markdown",
   "metadata": {},
   "source": [
    "drug_onto = get_ontology(\"http://test.org/onto.owl\")\n",
    "\n",
    "with drug_onto:\n",
    "    class Drug(Thing):\n",
    "        def take(self):\n",
    "            print(\"Take\")\n",
    "    \n",
    "    class Ingredient(Thing): pass\n",
    "    \n",
    "    class ActivePrinciple(Ingredient): pass\n",
    "    \n",
    "    class Aspirin(ActivePrinciple): pass\n",
    "    \n",
    "    class Excipient(Ingredient): pass\n",
    "    \n",
    "    class Lactose(Excipient): pass\n",
    "    \n",
    "    class hasIngredient(ObjectProperty):\n",
    "        domain = [Drug]\n",
    "        range = [Ingredient]\n",
    "            \n",
    "    class DrugCILactoseIntolerance(Drug):\n",
    "        equivalent_to = [\n",
    "            Drug\n",
    "            & hasIngredient.some(Lactose)\n",
    "        ]\n",
    "        def take(self):\n",
    "            print(\"Bahhh!\")\n",
    "            \n",
    "        \n",
    "    class DrugOkLactoseIntolerance(Drug):\n",
    "        equivalent_to = [\n",
    "            Drug\n",
    "            & Not(hasIngredient.some(Lactose))\n",
    "        ]\n",
    "        def take(self):\n",
    "            print(\"Ok, it is safe for me.\")\n",
    "            \n",
    "test_drug = drug_onto.Drug()\n",
    "aspirin = drug_onto.Aspirin()\n",
    "lactose = drug_onto.Lactose()\n",
    "test_drug.hasIngredient = [aspirin,lactose]\n",
    "\n",
    "print(test_drug.hasIngredient)\n",
    "\n",
    "sync_reasoner()\n",
    "\n",
    "test_drug.take()\n",
    " "
   ]
  },
  {
   "cell_type": "markdown",
   "metadata": {},
   "source": [
    "Lamy, J. B. (2017). Owlready: Ontology-oriented programming in Python with automatic classification and high level constructs for biomedical ontologies. Artificial Intelligence in Medicine, 80, 11-28."
   ]
  },
  {
   "cell_type": "code",
   "execution_count": null,
   "metadata": {
    "collapsed": true
   },
   "outputs": [],
   "source": []
  }
 ],
 "metadata": {
  "kernelspec": {
   "display_name": "Python 3",
   "language": "python",
   "name": "python3"
  },
  "language_info": {
   "codemirror_mode": {
    "name": "ipython",
    "version": 3
   },
   "file_extension": ".py",
   "mimetype": "text/x-python",
   "name": "python",
   "nbconvert_exporter": "python",
   "pygments_lexer": "ipython3",
   "version": "3.6.2"
  }
 },
 "nbformat": 4,
 "nbformat_minor": 2
}
