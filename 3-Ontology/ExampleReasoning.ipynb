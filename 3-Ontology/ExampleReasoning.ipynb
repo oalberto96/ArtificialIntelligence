{
 "cells": [
  {
   "cell_type": "code",
   "execution_count": null,
   "metadata": {
    "collapsed": true
   },
   "outputs": [],
   "source": [
    "from owlready2 import *"
   ]
  },
  {
   "cell_type": "markdown",
   "metadata": {},
   "source": [
    "Instalacion: \n",
    "```bash\n",
    "python3 -m pip install Owlready2\n",
    "pipconda install owlready2\n",
    "```\n"
   ]
  },
  {
   "cell_type": "markdown",
   "metadata": {},
   "source": [
    "\n",
    "# Pizza Example"
   ]
  },
  {
   "cell_type": "code",
   "execution_count": null,
   "metadata": {},
   "outputs": [],
   "source": [
    "#Load an ontology from a local repository, or from Internet\n",
    "onto_path.append(\"resources/\")\n",
    "onto = get_ontology(\"http://www.lesfleursdunormal.fr/static/_downloads/pizza_onto.owl\")\n",
    "onto.load()\n",
    "\n",
    "#Create new classes in the ontology, possibly mixing OWL constructs and Python methods\n",
    "class NonVegetarianPizza(onto.Pizza):\n",
    "    equivalent_to = [\n",
    "        onto.Pizza\n",
    "        & ( onto.has_topping.some(onto.MeatTopping)\n",
    "           | onto.has_topping.some(onto.FishTopping)\n",
    "          )]\n",
    "    def eat(self): print(\"Beurk! I'm vegetarian!\")\n",
    "        \n",
    "#Access the classes of the ontology, and create new instances / individuals:\n",
    "onto.Pizza\n",
    "test_pizza = onto.Pizza(\"test_pizza_owl_identifier\")\n",
    "test_pizza.has_topping = [ onto.CheeseTopping(),onto.TomatoTopping() ]\n",
    "\n",
    "#In Owlready2, almost any lists can be modified in place, for example by appending/removing items from lists. \n",
    "#Owlready2 automatically updates the RDF quadstore.\n",
    "test_pizza.has_topping.append(onto.MeatTopping())\n",
    "\n",
    "#Perform reasoning, and classify instances and classes:\n",
    "test_pizza.__class__\n",
    "\n",
    "# Execute HermiT and reparent instances and classes\n",
    "sync_reasoner()\n",
    "test_pizza.__class__\n",
    "test_pizza.eat()\n",
    "onto.save()\n",
    "\n",
    "list(onto.classes())"
   ]
  },
  {
   "cell_type": "markdown",
   "metadata": {
    "collapsed": true
   },
   "source": [
    "### Pyhton script (drug2.py)"
   ]
  },
  {
   "cell_type": "code",
   "execution_count": 3,
   "metadata": {},
   "outputs": [
    {
     "name": "stdout",
     "output_type": "stream",
     "text": [
      "[onto.aspirin2, onto.lactose2]\n"
     ]
    },
    {
     "name": "stderr",
     "output_type": "stream",
     "text": [
      "* Owlready2 * Running HermiT...\n",
      "    java -Xmx2000M -cp /home/glassy/anaconda3/lib/python3.6/site-packages/owlready2/hermit:/home/glassy/anaconda3/lib/python3.6/site-packages/owlready2/hermit/HermiT.jar org.semanticweb.HermiT.cli.CommandLine -c -O -D -I file:////tmp/tmp01302ehm\n"
     ]
    },
    {
     "name": "stdout",
     "output_type": "stream",
     "text": [
      "Bahhh!\n"
     ]
    },
    {
     "name": "stderr",
     "output_type": "stream",
     "text": [
      "* Owlready2 * HermiT took 1.1564075946807861 seconds\n",
      "* Owlready * Reparenting onto.drug2: {onto.Drug} => {onto.Drug & onto.hasIngredient.some(onto.Lactose), onto.DrugCILactoseIntolerance, onto.Drug & onto.hasIngredient.only(onto.Lactose)}\n",
      "* Owlready * Reparenting onto.aspirin2: {onto.Aspirin} => {onto.Aspirin, onto.Lactose}\n",
      "* Owlready * Reparenting onto.drug1: {onto.Drug} => {onto.Drug & onto.hasIngredient.some(onto.Lactose), onto.DrugCILactoseIntolerance, onto.Drug & onto.hasIngredient.only(onto.Lactose)}\n",
      "* Owlready * Reparenting onto.aspirin1: {onto.Aspirin} => {onto.Aspirin, onto.Lactose}\n"
     ]
    }
   ],
   "source": [
    "#Asigna el id de la ontologia\n",
    "drug_onto = get_ontology(\"http://test.org/onto.owl\")\n",
    "\n",
    "with drug_onto:\n",
    "    #Creacion de clases\n",
    "    class Drug(Thing):\n",
    "        def take(self):\n",
    "            print(\"Take\")\n",
    "    #Creacion de la clase ingrediente\n",
    "    class Ingredient(Thing): pass\n",
    "    \n",
    "    #Clase ActivePrinciple hija de Ingredient\n",
    "    class ActivePrinciple(Ingredient): pass\n",
    "    \n",
    "    #Clase Aspirin hija de ActivePrinciple\n",
    "    class Aspirin(ActivePrinciple): pass\n",
    "    \n",
    "    #Clase hija de Ingrediente, igual que ActivePrinciple\n",
    "    class Excipient(Ingredient): pass\n",
    "    \n",
    "    class Lactose(Excipient): pass\n",
    "    \n",
    "    #Declaracion de propiedad de la clase Drug, lista \n",
    "    #de Ingredientes, se puede asignar Excipient, porque \n",
    "    #es hija de Ingredient, y a su vez Lactose\n",
    "    #al ser clase hija de Excipient \n",
    "    class hasIngredient(ObjectProperty):\n",
    "        domain = [Drug]\n",
    "        range = [Ingredient]\n",
    "            \n",
    "    #Al ser clase hija de Drug, esta tiene la clase \n",
    "    #propiedad hasIngredient. Un Property en owlready \n",
    "    #tiene ciertos atributos, en este caso se asigno con some\n",
    "    class DrugCILactoseIntolerance(Drug):\n",
    "        equivalent_to = [\n",
    "            Drug \n",
    "            & hasIngredient.some(Lactose) \n",
    "        ]\n",
    "        def take(self):\n",
    "            print(\"Bahhh!\")\n",
    "            \n",
    "        \n",
    "    class DrugOkLactoseIntolerance(Drug):\n",
    "        equivalent_to = [\n",
    "            Drug\n",
    "            & Not(hasIngredient.some(Lactose))\n",
    "        ]\n",
    "        def take(self):\n",
    "            print(\"Ok, it is safe for me.\")\n",
    "#Se crea una instancia de la clase Drug\n",
    "test_drug = drug_onto.Drug()\n",
    "\n",
    "#Se crean instancias de Aspirin y Lactose\n",
    "aspirin = drug_onto.Aspirin()\n",
    "lactose = drug_onto.Lactose()\n",
    "\n",
    "\n",
    "#Se asigna range de los ingredientes\n",
    "test_drug.hasIngredient = [aspirin,lactose]\n",
    "\n",
    "\n",
    "print(test_drug.hasIngredient)\n",
    "\n",
    "#Se llama al razonador\n",
    "sync_reasoner()\n",
    "\n",
    "#Como Drug tiene Lactose in su propiedades, test_drug se asigna como \n",
    "#DrugCILactoseIntolerance, y al hacer el llamado de la funcion take, \n",
    "#se utiliza la funcion de DrugCILactoseIntolerance, mas no la de Drug\n",
    "test_drug.take()\n",
    " "
   ]
  },
  {
   "cell_type": "markdown",
   "metadata": {},
   "source": [
    "Lamy, J. B. (2017). Owlready: Ontology-oriented programming in Python with automatic classification and high level constructs for biomedical ontologies. Artificial Intelligence in Medicine, 80, 11-28."
   ]
  },
  {
   "cell_type": "code",
   "execution_count": null,
   "metadata": {
    "collapsed": true
   },
   "outputs": [],
   "source": []
  }
 ],
 "metadata": {
  "kernelspec": {
   "display_name": "Python 3",
   "language": "python",
   "name": "python3"
  },
  "language_info": {
   "codemirror_mode": {
    "name": "ipython",
    "version": 3
   },
   "file_extension": ".py",
   "mimetype": "text/x-python",
   "name": "python",
   "nbconvert_exporter": "python",
   "pygments_lexer": "ipython3",
   "version": "3.6.2"
  }
 },
 "nbformat": 4,
 "nbformat_minor": 2
}
